{
 "cells": [
  {
   "cell_type": "markdown",
   "id": "a1359da5",
   "metadata": {},
   "source": [
    "# Functions"
   ]
  },
  {
   "cell_type": "raw",
   "id": "ce498d4b",
   "metadata": {},
   "source": [
    "1. Define function\n",
    "2. Pass parameters (not compulsory)\n",
    "3. Perform operations (loops, conditions data structures etc)\n",
    "4. write return statement\n",
    "5. call the function"
   ]
  },
  {
   "cell_type": "raw",
   "id": "f4cbc607",
   "metadata": {},
   "source": [
    "def function_name(parameters):\n",
    "    any operations\n",
    "    return variable_name\n",
    "\n",
    "# Calling Function\n",
    "variable = function_name(paameters)\n",
    "print(variable)"
   ]
  },
  {
   "cell_type": "code",
   "execution_count": 1,
   "id": "0f31c060",
   "metadata": {},
   "outputs": [
    {
     "name": "stdout",
     "output_type": "stream",
     "text": [
      "11\n"
     ]
    }
   ],
   "source": [
    "def addition(a,b):\n",
    "    c = a + b\n",
    "    return c\n",
    "# Calling Funtion\n",
    "\n",
    "d = addition(5,6)\n",
    "print(d)"
   ]
  },
  {
   "cell_type": "markdown",
   "id": "a2914a0b",
   "metadata": {},
   "source": [
    "# We will create our first app/ Mini project\n",
    "We will use operations, if-else and function\n",
    "What our app do:\n",
    "It takes two numbers from user a,b.\n",
    "It ask user for the operation (addition, suntraction, multliplication, divivsion, exponential)\n",
    "It will return the result asked by user.\n",
    "\n",
    "\n"
   ]
  },
  {
   "cell_type": "code",
   "execution_count": 9,
   "id": "1b6f6e1a",
   "metadata": {},
   "outputs": [
    {
     "name": "stdout",
     "output_type": "stream",
     "text": [
      "Enter a,b and operation : 10 10 add\n"
     ]
    }
   ],
   "source": [
    "a,b, operation = input(\"Enter a,b and operation : \").split()"
   ]
  },
  {
   "cell_type": "code",
   "execution_count": 10,
   "id": "d5c98a39",
   "metadata": {},
   "outputs": [],
   "source": [
    "a = int(a)\n",
    "b = int(b)"
   ]
  },
  {
   "cell_type": "code",
   "execution_count": 11,
   "id": "d744f391",
   "metadata": {},
   "outputs": [
    {
     "data": {
      "text/plain": [
       "int"
      ]
     },
     "execution_count": 11,
     "metadata": {},
     "output_type": "execute_result"
    }
   ],
   "source": [
    "type(a)"
   ]
  },
  {
   "cell_type": "code",
   "execution_count": 12,
   "id": "9c1489b4",
   "metadata": {},
   "outputs": [],
   "source": [
    "def calc(a,b,operation):\n",
    "    if operation == 'add':\n",
    "        c = a+b\n",
    "    elif operation == 'sub':\n",
    "        c = a-b\n",
    "    elif operation == 'div':\n",
    "        c = a/b\n",
    "    elif operation == 'mul':\n",
    "        c = a*b\n",
    "    elif operation == 'expo':\n",
    "        c = a**b\n",
    "    return c\n",
    "    \n",
    "    "
   ]
  },
  {
   "cell_type": "code",
   "execution_count": 13,
   "id": "aebca7db",
   "metadata": {},
   "outputs": [
    {
     "name": "stdout",
     "output_type": "stream",
     "text": [
      "20\n"
     ]
    }
   ],
   "source": [
    "output = calc(a,b,operation)\n",
    "print(output)"
   ]
  },
  {
   "cell_type": "code",
   "execution_count": 14,
   "id": "2ca48129",
   "metadata": {},
   "outputs": [
    {
     "name": "stdout",
     "output_type": "stream",
     "text": [
      "Enter a,b and operation : 10 2 expo\n",
      "100\n"
     ]
    }
   ],
   "source": [
    "a,b, operation = input(\"Enter a,b and operation : \").split()\n",
    "a = int(a)\n",
    "b = int(b)\n",
    "output = calc(a,b,operation)\n",
    "print(output)"
   ]
  },
  {
   "cell_type": "code",
   "execution_count": null,
   "id": "dd226d9d",
   "metadata": {},
   "outputs": [],
   "source": []
  }
 ],
 "metadata": {
  "kernelspec": {
   "display_name": "Python 3 (ipykernel)",
   "language": "python",
   "name": "python3"
  },
  "language_info": {
   "codemirror_mode": {
    "name": "ipython",
    "version": 3
   },
   "file_extension": ".py",
   "mimetype": "text/x-python",
   "name": "python",
   "nbconvert_exporter": "python",
   "pygments_lexer": "ipython3",
   "version": "3.10.11"
  }
 },
 "nbformat": 4,
 "nbformat_minor": 5
}
