{
 "cells": [
  {
   "cell_type": "code",
   "execution_count": null,
   "id": "ec37b0f6",
   "metadata": {},
   "outputs": [],
   "source": [
    "# Lists >> Collection of different types of variables"
   ]
  },
  {
   "cell_type": "markdown",
   "id": "092551d6",
   "metadata": {},
   "source": [
    "Steps : \n",
    "1. Import Library\n",
    "2. Take user input\n",
    "3. Convert user input \n",
    "4. Make operations "
   ]
  },
  {
   "cell_type": "code",
   "execution_count": 1,
   "id": "6fea6f2c",
   "metadata": {},
   "outputs": [],
   "source": [
    "import math"
   ]
  },
  {
   "cell_type": "code",
   "execution_count": 2,
   "id": "8296c8d7",
   "metadata": {},
   "outputs": [
    {
     "name": "stdout",
     "output_type": "stream",
     "text": [
      "Enter number : 10\n"
     ]
    }
   ],
   "source": [
    "no1 = int(input(\"Enter number : \"))"
   ]
  },
  {
   "cell_type": "code",
   "execution_count": 3,
   "id": "0cffa595",
   "metadata": {},
   "outputs": [
    {
     "name": "stdout",
     "output_type": "stream",
     "text": [
      "Enter number : 10\n"
     ]
    }
   ],
   "source": [
    "no2 = int(input(\"Enter number : \"))"
   ]
  },
  {
   "cell_type": "code",
   "execution_count": 4,
   "id": "8b2b7adc",
   "metadata": {},
   "outputs": [
    {
     "name": "stdout",
     "output_type": "stream",
     "text": [
      "Enter number : 10\n"
     ]
    }
   ],
   "source": [
    "no3 = int(input(\"Enter number : \"))"
   ]
  },
  {
   "cell_type": "code",
   "execution_count": 5,
   "id": "4538831e",
   "metadata": {},
   "outputs": [
    {
     "name": "stdout",
     "output_type": "stream",
     "text": [
      "Enter number : 10\n"
     ]
    }
   ],
   "source": [
    "no4 = int(input(\"Enter number : \"))"
   ]
  },
  {
   "cell_type": "code",
   "execution_count": 6,
   "id": "135b8e1c",
   "metadata": {},
   "outputs": [],
   "source": [
    "list1 = [no1,no2]"
   ]
  },
  {
   "cell_type": "code",
   "execution_count": 7,
   "id": "07dfb3d4",
   "metadata": {},
   "outputs": [],
   "source": [
    "list2 = [no3,no4]"
   ]
  },
  {
   "cell_type": "code",
   "execution_count": 8,
   "id": "c509aa71",
   "metadata": {},
   "outputs": [],
   "source": [
    "list3 = list1 + list2"
   ]
  },
  {
   "cell_type": "code",
   "execution_count": 9,
   "id": "e599b888",
   "metadata": {},
   "outputs": [
    {
     "data": {
      "text/plain": [
       "[10, 10, 10, 10]"
      ]
     },
     "execution_count": 9,
     "metadata": {},
     "output_type": "execute_result"
    }
   ],
   "source": [
    "list3"
   ]
  },
  {
   "cell_type": "markdown",
   "id": "648a8f87",
   "metadata": {},
   "source": [
    "Ohh No !!!!!!!\n",
    "\n",
    "What to do now?\n",
    "\n",
    "Remember this.\n",
    "\n",
    "We will answer how to do this..\n"
   ]
  },
  {
   "cell_type": "code",
   "execution_count": null,
   "id": "0384bb3f",
   "metadata": {},
   "outputs": [],
   "source": [
    "# -------------------------------XXXXXXXXXXXXXXXXXXXXXXXXXXXXXXXXXXXX------------------------------------"
   ]
  },
  {
   "cell_type": "code",
   "execution_count": null,
   "id": "d1300b85",
   "metadata": {},
   "outputs": [],
   "source": [
    "# Dictionaries"
   ]
  },
  {
   "cell_type": "code",
   "execution_count": 10,
   "id": "f60c3b21",
   "metadata": {},
   "outputs": [],
   "source": [
    "d = {'Alice':80,'Bob':70, 'Jane':98}"
   ]
  },
  {
   "cell_type": "code",
   "execution_count": 11,
   "id": "34cbe327",
   "metadata": {},
   "outputs": [
    {
     "data": {
      "text/plain": [
       "{'Alice': 80, 'Bob': 70, 'Jane': 98}"
      ]
     },
     "execution_count": 11,
     "metadata": {},
     "output_type": "execute_result"
    }
   ],
   "source": [
    "d"
   ]
  },
  {
   "cell_type": "code",
   "execution_count": 21,
   "id": "44a70228",
   "metadata": {},
   "outputs": [],
   "source": [
    "e = dict(Alice =  80,Bob=70, Jane =  98)"
   ]
  },
  {
   "cell_type": "code",
   "execution_count": 23,
   "id": "a55b8f22",
   "metadata": {},
   "outputs": [
    {
     "data": {
      "text/plain": [
       "{'Alice': 80, 'Bob': 70, 'Jane': 98}"
      ]
     },
     "execution_count": 23,
     "metadata": {},
     "output_type": "execute_result"
    }
   ],
   "source": [
    "e"
   ]
  },
  {
   "cell_type": "code",
   "execution_count": null,
   "id": "4d041098",
   "metadata": {},
   "outputs": [],
   "source": []
  }
 ],
 "metadata": {
  "kernelspec": {
   "display_name": "Python 3 (ipykernel)",
   "language": "python",
   "name": "python3"
  },
  "language_info": {
   "codemirror_mode": {
    "name": "ipython",
    "version": 3
   },
   "file_extension": ".py",
   "mimetype": "text/x-python",
   "name": "python",
   "nbconvert_exporter": "python",
   "pygments_lexer": "ipython3",
   "version": "3.10.11"
  }
 },
 "nbformat": 4,
 "nbformat_minor": 5
}
