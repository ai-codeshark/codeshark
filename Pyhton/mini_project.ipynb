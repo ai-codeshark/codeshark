{
 "cells": [
  {
   "cell_type": "markdown",
   "id": "5d55f562",
   "metadata": {},
   "source": [
    "# Mini - Project\n",
    "\n",
    "Here's a Python mini-project that creates a function to find and count the occurrences of each word in a given sentence:\n",
    "For E.g \n",
    "s = \"Hello CodeShark I am coder at CodeShark I learn ML at CodeShark\"\n",
    "output ????#"
   ]
  },
  {
   "cell_type": "code",
   "execution_count": 6,
   "id": "bd7d9f71",
   "metadata": {},
   "outputs": [],
   "source": [
    "def count_words(sentence):\n",
    "    # Remove punctuation and convert the sentence to lowercase\n",
    "    sentence = sentence.lower().replace(\",\", \"\").replace(\".\", \"\").replace(\"!\", \"\").replace(\"?\", \"\")\n",
    "    \n",
    "    # Split the sentence into words using whitespace as the delimiter\n",
    "    words = sentence.split()\n",
    "    print(f\"The split words are {words}\")\n",
    "    \n",
    "    # Initialize an empty dictionary to store word counts\n",
    "    word_count = {}\n",
    "    \n",
    "    # Loop through each word in the list and count occurrences\n",
    "    for word in words:\n",
    "        if word in word_count:\n",
    "            word_count[word] += 1\n",
    "        else:\n",
    "            word_count[word] = 1\n",
    "    \n",
    "    return word_count\n",
    "\n",
    "\n"
   ]
  },
  {
   "cell_type": "code",
   "execution_count": 9,
   "id": "7fa9c6d0",
   "metadata": {},
   "outputs": [
    {
     "name": "stdout",
     "output_type": "stream",
     "text": [
      "The split words are ['hello', 'codeshark', 'i', 'am', 'coder', 'at', 'codeshark', 'i', 'learn', 'ml', 'at', 'codeshark']\n",
      "\n",
      "\n",
      "The final result is {'hello': 1, 'codeshark': 3, 'i': 2, 'am': 1, 'coder': 1, 'at': 2, 'learn': 1, 'ml': 1}\n"
     ]
    }
   ],
   "source": [
    "# Example usage:\n",
    "sentence = \"Hello CodeShark I am coder at CodeShark I learn ML at Codeshark\"\n",
    "result = count_words(sentence)\n",
    "print(f\"\\n\\nThe final result is {result}\")"
   ]
  },
  {
   "cell_type": "code",
   "execution_count": null,
   "id": "1fbcb224",
   "metadata": {},
   "outputs": [],
   "source": []
  },
  {
   "cell_type": "code",
   "execution_count": null,
   "id": "ea77a24a",
   "metadata": {},
   "outputs": [],
   "source": []
  },
  {
   "cell_type": "code",
   "execution_count": null,
   "id": "6b1f781c",
   "metadata": {},
   "outputs": [],
   "source": []
  }
 ],
 "metadata": {
  "kernelspec": {
   "display_name": "Python 3 (ipykernel)",
   "language": "python",
   "name": "python3"
  },
  "language_info": {
   "codemirror_mode": {
    "name": "ipython",
    "version": 3
   },
   "file_extension": ".py",
   "mimetype": "text/x-python",
   "name": "python",
   "nbconvert_exporter": "python",
   "pygments_lexer": "ipython3",
   "version": "3.10.11"
  }
 },
 "nbformat": 4,
 "nbformat_minor": 5
}
